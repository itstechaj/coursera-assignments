{
 "cells": [
  {
   "cell_type": "markdown",
   "metadata": {},
   "source": [
    "<center>\n",
    "    <img src=\"https://s3-api.us-geo.objectstorage.softlayer.net/cf-courses-data/CognitiveClass/Logos/organization_logo/organization_logo.png\" width=\"300\" alt=\"cognitiveclass.ai logo\"  />\n",
    "</center>\n"
   ]
  },
  {
   "cell_type": "markdown",
   "metadata": {},
   "source": [
    "#### Add your code below following the instructions given in the course\n"
   ]
  },
  {
   "cell_type": "markdown",
   "metadata": {},
   "source": [
    "<h1> My Jupyter Notebook on IBM Watson Studio </h1>"
   ]
  },
  {
   "cell_type": "markdown",
   "metadata": {},
   "source": [
    "<strong> Abhijit Kumar </strong>\n",
    "<p>Current occupation : CSE Student | Desired occupation : Data science & ML Engineer </p>"
   ]
  },
  {
   "cell_type": "markdown",
   "metadata": {},
   "source": [
    "<em>I am interested in data science because <u>I love to find some patterns and Insights</u> from the large data sets and i also love the way a huge amount of data can simply understand using graphs and visualization by anyone from any field. I believe if we analyze data effectively then by using ml and AI algorithms we can <u>predict future</u> up to some extent isn't it exiting?</em>"
   ]
  },
  {
   "cell_type": "markdown",
   "metadata": {},
   "source": [
    "<h3>toss is a function i implemented that mimics the toss of coin.the toss function returns heads or tails.</h3>"
   ]
  },
  {
   "cell_type": "code",
   "execution_count": 5,
   "metadata": {},
   "outputs": [
    {
     "name": "stdout",
     "output_type": "stream",
     "text": [
      "Tails\n"
     ]
    }
   ],
   "source": [
    "#importing randint method for generating random integer\n",
    "from random import randint\n",
    "\n",
    "# toss function\n",
    "def toss():\n",
    "    out=randint(0,1)\n",
    "    # 1-> heads | 0 -> tails\n",
    "    if(out==1): return \"Heads\"\n",
    "    else: return \"Tails\"\n",
    "\n",
    "#calling the toss function and printing result\n",
    "print(toss())\n"
   ]
  },
  {
   "cell_type": "markdown",
   "metadata": {},
   "source": [
    "<strong>Bulleted List</strong> \n",
    "<ul>\n",
    "    <li>Item 1</li>\n",
    "    <li>Item 2</li>\n",
    "    <li>Item 3</li>\n",
    "</ul>\n",
    "<hr>\n",
    "<strong>Numbered List</strong> \n",
    "<ol>\n",
    "    <li>Item 1</li>\n",
    "    <li>Item 2</li>\n",
    "    <li>Item 3</li>\n",
    "</ol>\n",
    "<hr>\n",
    "<strong>Tables</strong>\n",
    "<table>\n",
    "    <tr>\n",
    "        <th>Name</th>\n",
    "        <th>Roll No.</th>\n",
    "        <th>Grade</th>\n",
    "    </tr>\n",
    "    <tr>\n",
    "        <td>Abhijit</td>\n",
    "        <td>20CS8167</td>\n",
    "        <td>Ex</td>\n",
    "    </tr>\n",
    "    <tr>\n",
    "        <td>Alan</td>\n",
    "        <td>20CS8156</td>\n",
    "        <td>A</td>\n",
    "    </tr>\n",
    "    <tr>\n",
    "        <td>Tom</td>\n",
    "        <td>20CS8166</td>\n",
    "        <td>P</td>\n",
    "    </tr>\n",
    "    <tr>\n",
    "        <td>Jaahnvi</td>\n",
    "        <td>20CS8166</td>\n",
    "        <td>Ex</td>\n",
    "    </tr>\n",
    "</table>\n",
    "<hr>\n",
    "<strong>HyperLinks</strong>\n",
    "<a herf=\"https://www.ibm.com/in-en\">Visit IBM official site</a>\n",
    "<hr>\n",
    "<strong>Images</strong>\n",
    "<img src=\"https://images.unsplash.com/photo-1591696331111-ef9586a5b17a?ixlib=rb-1.2.1&ixid=MnwxMjA3fDB8MHxwaG90by1wYWdlfHx8fGVufDB8fHx8&auto=format&fit=crop&w=130&q=80\" alt=\"Artificial Intelligence\">\n",
    "<hr>\n",
    "<strong>Highighted Text</strong>\n",
    "<p>I am doing <mark>IBM course</mark>.</p>\n",
    "<hr>\n",
    "<strong>Blocked quotes</strong>\n",
    "<p>Example : </p>\n",
    "<blockquote>this is an example of blocked quotes.</blockquote>\n",
    "<hr>\n",
    "<strong>Strikethrough</strong>\n",
    "<p>Example : </p>\n",
    "<s>this is an example of strikethrough .</s>\n",
    "<hr>\n",
    "<strong>Thank you!</strong>"
   ]
  },
  {
   "cell_type": "markdown",
   "metadata": {
    "tags": []
   },
   "source": [
    "# <a href=\"https://dataplatform.cloud.ibm.com/gallery\">IBM Cloud Gallery</a>\n"
   ]
  }
 ],
 "metadata": {
  "kernelspec": {
   "display_name": "Python",
   "language": "python",
   "name": "conda-env-python-py"
  },
  "language_info": {
   "codemirror_mode": {
    "name": "ipython",
    "version": 3
   },
   "file_extension": ".py",
   "mimetype": "text/x-python",
   "name": "python",
   "nbconvert_exporter": "python",
   "pygments_lexer": "ipython3",
   "version": "3.7.12"
  }
 },
 "nbformat": 4,
 "nbformat_minor": 4
}
